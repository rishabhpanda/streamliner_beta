{
 "cells": [
  {
   "cell_type": "code",
   "execution_count": 7,
   "metadata": {},
   "outputs": [
    {
     "name": "stdout",
     "output_type": "stream",
     "text": [
      "{'Descriptive Metadata': {'File Name': 'dataset_small.csv', 'File Size': '0.73 KB', 'Number of Rows': 9, 'Number of Columns': 10, 'Column Names': ['Transaction_ID', 'Customer_ID', 'Total_Purchases', 'Amount', 'Total_Amount', 'Product_Category', 'Product_Type', 'Products', 'Feedback', 'Ratings'], 'Date Created': '2024-08-20 00:29:22', 'Date Modified': '2024-08-20 00:29:22', 'Description': 'The dataset contains 9 rows and 10 columns.'}, 'Operational Metadata': {'Column Data Types': {'Transaction_ID': dtype('int64'), 'Customer_ID': dtype('int64'), 'Total_Purchases': dtype('int64'), 'Amount': dtype('float64'), 'Total_Amount': dtype('float64'), 'Product_Category': dtype('O'), 'Product_Type': dtype('O'), 'Products': dtype('O'), 'Feedback': dtype('O'), 'Ratings': dtype('int64')}, 'Missing Values Count': {'Transaction_ID': 0, 'Customer_ID': 0, 'Total_Purchases': 0, 'Amount': 0, 'Total_Amount': 0, 'Product_Category': 0, 'Product_Type': 0, 'Products': 0, 'Feedback': 0, 'Ratings': 0}, 'Unique Values Count': {'Transaction_ID': 9, 'Customer_ID': 2, 'Total_Purchases': 6, 'Amount': 9, 'Total_Amount': 9, 'Product_Category': 5, 'Product_Type': 8, 'Products': 9, 'Feedback': 4, 'Ratings': 5}, 'File Delimiter': ','}}\n"
     ]
    }
   ],
   "source": [
    "import pandas as pd\n",
    "import os\n",
    "from datetime import datetime\n",
    "import csv\n",
    "\n",
    "def detect_delimiter(file_path):\n",
    "    with open(file_path, 'r') as file:\n",
    "        dialect = csv.Sniffer().sniff(file.read(1024))\n",
    "        return dialect.delimiter\n",
    "\n",
    "def generate_metadata(file_path):\n",
    "    # Check if file exists\n",
    "    if not os.path.exists(file_path):\n",
    "        return \"File not found.\"\n",
    "    \n",
    "    # Detect delimiter\n",
    "    delimiter = detect_delimiter(file_path)\n",
    "    \n",
    "    # Reading the CSV file\n",
    "    df = pd.read_csv(file_path, delimiter=delimiter)\n",
    "\n",
    "    # Converting timestamps to readable dates\n",
    "    date_created = datetime.fromtimestamp(os.path.getctime(file_path)).strftime('%Y-%m-%d %H:%M:%S')\n",
    "    date_modified = datetime.fromtimestamp(os.path.getmtime(file_path)).strftime('%Y-%m-%d %H:%M:%S')\n",
    "    \n",
    "    # Descriptive Metadata\n",
    "    descriptive_metadata = {\n",
    "        \"File Name\": os.path.basename(file_path),\n",
    "        \"File Size\": f\"{os.path.getsize(file_path) / 1024:.2f} KB\",\n",
    "        \"Number of Rows\": df.shape[0],\n",
    "        \"Number of Columns\": df.shape[1],\n",
    "        \"Column Names\": list(df.columns),\n",
    "        \"Date Created\": date_created,\n",
    "        \"Date Modified\": date_modified,\n",
    "        \"Description\": f\"The dataset contains {df.shape[0]} rows and {df.shape[1]} columns.\"\n",
    "    }\n",
    "    \n",
    "    # Operational Metadata\n",
    "    operational_metadata = {\n",
    "        \"Column Data Types\": df.dtypes.to_dict(),\n",
    "        \"Missing Values Count\": df.isnull().sum().to_dict(),\n",
    "        \"Unique Values Count\": df.nunique().to_dict(),\n",
    "        \"File Delimiter\": delimiter\n",
    "    }\n",
    "    \n",
    "    # Combine the metadata\n",
    "    metadata = {\n",
    "        \"Descriptive Metadata\": descriptive_metadata,\n",
    "        \"Operational Metadata\": operational_metadata\n",
    "    }\n",
    "    \n",
    "    return metadata\n",
    "\n",
    "# Example usage\n",
    "file_path = r'c:\\Users\\66023\\OneDrive - Bain\\Desktop\\rishabhpanda\\streamliner_beta\\test_data\\dataset_small.csv'\n",
    "metadata = generate_metadata(file_path)\n",
    "print(metadata)"
   ]
  }
 ],
 "metadata": {
  "kernelspec": {
   "display_name": "Python 3",
   "language": "python",
   "name": "python3"
  },
  "language_info": {
   "codemirror_mode": {
    "name": "ipython",
    "version": 3
   },
   "file_extension": ".py",
   "mimetype": "text/x-python",
   "name": "python",
   "nbconvert_exporter": "python",
   "pygments_lexer": "ipython3",
   "version": "3.10.11"
  }
 },
 "nbformat": 4,
 "nbformat_minor": 2
}
