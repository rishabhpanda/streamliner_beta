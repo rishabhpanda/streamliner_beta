{
 "cells": [
  {
   "cell_type": "code",
   "execution_count": 2,
   "metadata": {},
   "outputs": [
    {
     "name": "stdout",
     "output_type": "stream",
     "text": [
      "Data has been successfully written to output_file.hyper\n"
     ]
    }
   ],
   "source": [
    "from tableauhyperapi import HyperProcess, Connection, TableDefinition, SqlType, Telemetry, Inserter, CreateMode, TableName\n",
    "import pandas as pd\n",
    "\n",
    "def write_hyper_file(df, hyper_file_path, table_name):\n",
    "    # Mapping pandas datatypes to Hyper SQL datatypes\n",
    "    type_mapping = {\n",
    "        \"float64\": SqlType.double(),\n",
    "        \"int64\": SqlType.int(),\n",
    "        \"object\": SqlType.varchar(255),\n",
    "        \"datetime64[ns]\": SqlType.timestamp(),\n",
    "        \"bool\": SqlType.bool()\n",
    "    }\n",
    "\n",
    "    # Replace NaN values with an empty string\n",
    "    df = df.fillna('')\n",
    "\n",
    "    # Get the column names and types\n",
    "    column_types = {col: type_mapping.get(str(dtype), SqlType.text()) for col, dtype in df.dtypes.items()}\n",
    "\n",
    "    # Create a HyperProcess instance\n",
    "    with HyperProcess(telemetry=Telemetry.SEND_USAGE_DATA_TO_TABLEAU) as hyper:\n",
    "\n",
    "        # Create or overwrite the Hyper file\n",
    "        with Connection(endpoint=hyper.endpoint, database=hyper_file_path, create_mode=CreateMode.CREATE_AND_REPLACE) as connection:\n",
    "\n",
    "            # Define the table\n",
    "            table_definition = TableDefinition(table_name=TableName(table_name))\n",
    "\n",
    "            # Add columns to the table definition\n",
    "            for column_name, column_type in column_types.items():\n",
    "                table_definition.add_column(column_name, column_type)\n",
    "\n",
    "            # Create the table in the Hyper file\n",
    "            connection.catalog.create_table(table_definition)\n",
    "\n",
    "            # Insert data into the table\n",
    "            with Inserter(connection, table_definition) as inserter:\n",
    "                inserter.add_rows(df.itertuples(index=False, name=None))\n",
    "                inserter.execute()\n",
    "\n",
    "# Example usage:\n",
    "if __name__ == \"__main__\":\n",
    "    # Read a CSV file into a DataFrame\n",
    "    csv_file_path = \"your_file.csv\"\n",
    "    df = pd.read_csv(csv_file_path)\n",
    "\n",
    "    # Specify the output Hyper file path and the table name\n",
    "    hyper_file_path = \"output_file.hyper\"\n",
    "    table_name = \"Extract\"\n",
    "\n",
    "    # Write the DataFrame to a .hyper file\n",
    "    write_hyper_file(df, hyper_file_path, table_name)\n",
    "\n",
    "    print(f\"Data has been successfully written to {hyper_file_path}\")"
   ]
  }
 ],
 "metadata": {
  "kernelspec": {
   "display_name": "Python 3",
   "language": "python",
   "name": "python3"
  },
  "language_info": {
   "codemirror_mode": {
    "name": "ipython",
    "version": 3
   },
   "file_extension": ".py",
   "mimetype": "text/x-python",
   "name": "python",
   "nbconvert_exporter": "python",
   "pygments_lexer": "ipython3",
   "version": "3.10.11"
  }
 },
 "nbformat": 4,
 "nbformat_minor": 2
}
