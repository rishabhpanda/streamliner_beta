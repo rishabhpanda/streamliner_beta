{
 "cells": [
  {
   "cell_type": "code",
   "execution_count": 5,
   "metadata": {},
   "outputs": [
    {
     "ename": "ImportError",
     "evalue": "cannot import name 'Aer' from 'qiskit' (C:\\Users\\66023\\AppData\\Local\\Packages\\PythonSoftwareFoundation.Python.3.10_qbz5n2kfra8p0\\LocalCache\\local-packages\\Python310\\site-packages\\qiskit\\__init__.py)",
     "output_type": "error",
     "traceback": [
      "\u001b[1;31m---------------------------------------------------------------------------\u001b[0m",
      "\u001b[1;31mImportError\u001b[0m                               Traceback (most recent call last)",
      "Cell \u001b[1;32mIn[5], line 4\u001b[0m\n\u001b[0;32m      2\u001b[0m \u001b[38;5;28;01mimport\u001b[39;00m \u001b[38;5;21;01mpandas\u001b[39;00m \u001b[38;5;28;01mas\u001b[39;00m \u001b[38;5;21;01mpd\u001b[39;00m\n\u001b[0;32m      3\u001b[0m \u001b[38;5;28;01mimport\u001b[39;00m \u001b[38;5;21;01mtime\u001b[39;00m\n\u001b[1;32m----> 4\u001b[0m \u001b[38;5;28;01mfrom\u001b[39;00m \u001b[38;5;21;01mqiskit\u001b[39;00m \u001b[38;5;28;01mimport\u001b[39;00m Aer, execute\n\u001b[0;32m      5\u001b[0m \u001b[38;5;28;01mfrom\u001b[39;00m \u001b[38;5;21;01mqiskit\u001b[39;00m\u001b[38;5;21;01m.\u001b[39;00m\u001b[38;5;21;01mcircuit\u001b[39;00m\u001b[38;5;21;01m.\u001b[39;00m\u001b[38;5;21;01mlibrary\u001b[39;00m \u001b[38;5;28;01mimport\u001b[39;00m GroverOperator\n\u001b[0;32m      6\u001b[0m \u001b[38;5;28;01mfrom\u001b[39;00m \u001b[38;5;21;01mqiskit\u001b[39;00m\u001b[38;5;21;01m.\u001b[39;00m\u001b[38;5;21;01malgorithms\u001b[39;00m \u001b[38;5;28;01mimport\u001b[39;00m AmplificationProblem, Grover\n",
      "\u001b[1;31mImportError\u001b[0m: cannot import name 'Aer' from 'qiskit' (C:\\Users\\66023\\AppData\\Local\\Packages\\PythonSoftwareFoundation.Python.3.10_qbz5n2kfra8p0\\LocalCache\\local-packages\\Python310\\site-packages\\qiskit\\__init__.py)"
     ]
    }
   ],
   "source": [
    "import numpy as np\n",
    "import pandas as pd\n",
    "import time\n",
    "from qiskit import Aer, execute\n",
    "from qiskit.circuit.library import GroverOperator\n",
    "from qiskit.algorithms import AmplificationProblem, Grover\n",
    "from qiskit.utils import QuantumInstance"
   ]
  },
  {
   "cell_type": "code",
   "execution_count": null,
   "metadata": {},
   "outputs": [],
   "source": [
    "# Load the CSV file\n",
    "data = pd.read_csv('dataset_small.csv')\n",
    "\n",
    "# Define the target condition (this is what you're searching for)\n",
    "# For example, let's say we are searching for rows where the 'Product_Type' is 'Soft Drink'\n",
    "def target_condition(row):\n",
    "    return row['Product_Type'] == 'Soft Drink'\n",
    "\n",
    "# Classical search (for comparison)\n",
    "def classical_search(data):\n",
    "    for index, row in data.iterrows():\n",
    "        if target_condition(row):\n",
    "            return index, row\n",
    "    return None, None"
   ]
  },
  {
   "cell_type": "code",
   "execution_count": null,
   "metadata": {},
   "outputs": [],
   "source": [
    "# Grover's algorithm using Qiskit\n",
    "def grover_search_qiskit(data):\n",
    "    num_items = len(data)\n",
    "    \n",
    "    # Define the oracle: A classical function that checks if an item matches the target condition\n",
    "    def oracle(index):\n",
    "        return target_condition(data.iloc[index])\n",
    "    \n",
    "    # Set up the quantum circuit\n",
    "    # The number of qubits should be able to represent all indices\n",
    "    num_qubits = int(np.ceil(np.log2(num_items)))\n",
    "    \n",
    "    # Initialize Qiskit's Grover instance\n",
    "    oracle_bitstring = [oracle(i) for i in range(num_items)]\n",
    "    oracle_bitstring = [int(bit) for bit in oracle_bitstring]\n",
    "    \n",
    "    # Create the Oracle for Grover's algorithm\n",
    "    problem = AmplificationProblem(oracle=oracle_bitstring, is_good_state=oracle_bitstring)\n",
    "    \n",
    "    # Use Aer (Qiskit's simulator) as the backend\n",
    "    backend = Aer.get_backend('qasm_simulator')\n",
    "    \n",
    "    grover = Grover(quantum_instance=QuantumInstance(backend))\n",
    "    \n",
    "    # Run Grover's algorithm\n",
    "    result = grover.amplify(problem)\n",
    "    \n",
    "    # Get the most likely index\n",
    "    result_index = int(result.top_measurement, 2)\n",
    "    return result_index, data.iloc[result_index]"
   ]
  },
  {
   "cell_type": "code",
   "execution_count": null,
   "metadata": {},
   "outputs": [],
   "source": [
    "# Measure and run the classical search\n",
    "start_time = time.time()\n",
    "classical_result_index, classical_result_row = classical_search(data)\n",
    "end_time = time.time()\n",
    "classical_time = end_time - start_time\n",
    "print(f\"Classical Search Result: Index {classical_result_index}, Row: {classical_result_row}\")\n",
    "print(f\"Classical Search Processing Time: {classical_time:.6f} seconds\")\n",
    "\n",
    "print('\\n\\n')\n",
    "\n",
    "# Measure and run the Grover's algorithm with Qiskit\n",
    "start_time = time.time()\n",
    "grover_result_index, grover_result_row = grover_search_qiskit(data)\n",
    "end_time = time.time()\n",
    "grover_time = end_time - start_time\n",
    "print(f\"Grover Search Result: Index {grover_result_index}, Row: {grover_result_row}\")\n",
    "print(f\"Grover Search Processing Time: {grover_time:.6f} seconds\")"
   ]
  }
 ],
 "metadata": {
  "kernelspec": {
   "display_name": "Python 3",
   "language": "python",
   "name": "python3"
  },
  "language_info": {
   "codemirror_mode": {
    "name": "ipython",
    "version": 3
   },
   "file_extension": ".py",
   "mimetype": "text/x-python",
   "name": "python",
   "nbconvert_exporter": "python",
   "pygments_lexer": "ipython3",
   "version": "3.10.11"
  }
 },
 "nbformat": 4,
 "nbformat_minor": 2
}
